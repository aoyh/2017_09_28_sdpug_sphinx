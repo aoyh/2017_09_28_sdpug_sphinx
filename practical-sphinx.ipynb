{
 "cells": [
  {
   "cell_type": "markdown",
   "metadata": {
    "slideshow": {
     "slide_type": "slide"
    }
   },
   "source": [
    "# Practical Sphinx\n",
    "\n",
    "### Carol Willing\n"
   ]
  },
  {
   "cell_type": "markdown",
   "metadata": {
    "slideshow": {
     "slide_type": "fragment"
    }
   },
   "source": [
    "San Diego Python and PyLadies\n",
    "\n",
    "September 28, 2017"
   ]
  },
  {
   "cell_type": "markdown",
   "metadata": {
    "slideshow": {
     "slide_type": "slide"
    }
   },
   "source": [
    "## Getting Started"
   ]
  },
  {
   "cell_type": "markdown",
   "metadata": {
    "slideshow": {
     "slide_type": "slide"
    }
   },
   "source": [
    "```\n",
    "python3 -m pip install Sphinx\n",
    "```"
   ]
  },
  {
   "cell_type": "markdown",
   "metadata": {
    "slideshow": {
     "slide_type": "skip"
    }
   },
   "source": [
    "```\n",
    "# Create project folder\n",
    "mkdir my-doc-project\n",
    "cd my-doc-project\n",
    "```"
   ]
  },
  {
   "cell_type": "markdown",
   "metadata": {
    "slideshow": {
     "slide_type": "slide"
    }
   },
   "source": [
    "```\n",
    "# Run sphinx's quickstart\n",
    "# Leave most items as default\n",
    "sphinx-quickstart\n",
    "```"
   ]
  },
  {
   "cell_type": "markdown",
   "metadata": {
    "slideshow": {
     "slide_type": "slide"
    }
   },
   "source": [
    "```\n",
    "# Build docs from your docs root directory\n",
    "make clean\n",
    "make build\n",
    "make linkcheck\n",
    "```"
   ]
  },
  {
   "cell_type": "markdown",
   "metadata": {
    "slideshow": {
     "slide_type": "slide"
    }
   },
   "source": [
    "```\n",
    "# To view the docs\n",
    "open _build/html/index.html\n",
    "\n",
    "# Or start a webserver and view\n",
    "python3 -m http.server\n",
    "```"
   ]
  },
  {
   "cell_type": "markdown",
   "metadata": {
    "slideshow": {
     "slide_type": "slide"
    }
   },
   "source": [
    "## Configuration"
   ]
  },
  {
   "cell_type": "markdown",
   "metadata": {
    "slideshow": {
     "slide_type": "slide"
    }
   },
   "source": [
    "## `conf.py`\n",
    "\n",
    "- Use for configuration settings.\n",
    "- This is a Python file.\n",
    "- You can execute Python code for custom builds."
   ]
  },
  {
   "cell_type": "markdown",
   "metadata": {
    "slideshow": {
     "slide_type": "slide"
    }
   },
   "source": [
    "## `conf.py`\n",
    "\n",
    "- themes\n",
    "- source files\n",
    "- extensions"
   ]
  },
  {
   "cell_type": "markdown",
   "metadata": {
    "slideshow": {
     "slide_type": "slide"
    }
   },
   "source": [
    "## Themes in `conf.py`\n",
    "\n",
    "**Easiest** Use the default.\n",
    "\n",
    "**Easy** Use another standard theme.\n",
    "\n",
    "**Customize** `css`, `js` and override `templates` (`jinja2`)\n",
    "\n",
    "**Create your own theme** Only do if the above doesn't meet your needs."
   ]
  },
  {
   "cell_type": "markdown",
   "metadata": {
    "slideshow": {
     "slide_type": "slide"
    }
   },
   "source": [
    "## Source files\n",
    "#### More than `.rst`\n",
    "\n",
    "- reStructuredText `.rst` and sometimes `.txt`\n",
    "- markdown `.md`\n",
    "- Jupyter notebooks `.ipynb`"
   ]
  },
  {
   "cell_type": "markdown",
   "metadata": {
    "slideshow": {
     "slide_type": "slide"
    }
   },
   "source": [
    "## `conf.py`\n",
    "\n",
    "#### reStructuredText `.rst`\n",
    "\n",
    "No changes needed in `conf.py`."
   ]
  },
  {
   "cell_type": "markdown",
   "metadata": {
    "slideshow": {
     "slide_type": "slide"
    }
   },
   "source": [
    "## `conf.py` (cont.)\n",
    "\n",
    "#### Markdown `.md` using `recommonmark`.\n",
    "\n",
    "```\n",
    "# For conversion from markdown to html\n",
    "import recommonmark.Parser\n",
    "\n",
    "# Add a source file parser for markdown\n",
    "source_parsers = {\n",
    "    '.md': 'recommonmark.parser.CommonMarkParser',\n",
    "}\n",
    "\n",
    "# Add type of source files\n",
    "source_suffix = ['.rst', '.md']\n",
    "```"
   ]
  },
  {
   "cell_type": "markdown",
   "metadata": {
    "slideshow": {
     "slide_type": "slide"
    }
   },
   "source": [
    "## `conf.py` (cont.)\n",
    "\n",
    "#### Jupyter notebooks  `.ipynb` using `nbsphinx` extension.\n",
    "\n",
    "```\n",
    "extensions = [\n",
    "    'sphinx.ext.autodoc',\n",
    "    'sphinx.ext.doctest',\n",
    "    'sphinx.ext.intersphinx',\n",
    "    'sphinx.ext.autosummary',\n",
    "    'sphinx.ext.mathjax',\n",
    "    'nbsphinx',\n",
    "]\n",
    "\n",
    "# Add type of source files\n",
    "source_suffix = ['.rst', '.md', '.ipynb']\n",
    "```"
   ]
  },
  {
   "cell_type": "markdown",
   "metadata": {
    "slideshow": {
     "slide_type": "slide"
    }
   },
   "source": [
    "## `index.rst`\n",
    "\n",
    "Table of Contents using each source file type\n",
    "\n",
    "```\n",
    ".. toctree::\n",
    "   :maxdepth: 2\n",
    "   :caption: Sphinx Tips\n",
    "   \n",
    "   installation\n",
    "   configuration.md\n",
    "   content.ipynb\n",
    "   deploy-on-rtd\n",
    "```"
   ]
  },
  {
   "cell_type": "markdown",
   "metadata": {
    "collapsed": true,
    "slideshow": {
     "slide_type": "slide"
    }
   },
   "source": [
    "## Love your docs!\n",
    "\n",
    "- Many documentation examples esp. Django, Jupyter, Python\n",
    "- Check out my documentation examples on GitHub: `https://github.com/willingc`\n",
    "- A minimal documentation example repo https://github.com/willingc/doc-basics\n",
    "- Anne Gentle's https://justwriteclick.com/ and https://www.docslikecode.com/articles/ \n",
    "- Eric Holscher :smile: http://www.writethedocs.org/ and https://readthedocs.io"
   ]
  },
  {
   "cell_type": "markdown",
   "metadata": {
    "slideshow": {
     "slide_type": "slide"
    }
   },
   "source": [
    "## Thank you\n",
    "\n",
    "Become a PSF member at `python.org`.\n",
    "\n",
    "Enjoy San Diego Python and PyLadies meetups and events.\n"
   ]
  },
  {
   "cell_type": "code",
   "execution_count": null,
   "metadata": {
    "collapsed": true
   },
   "outputs": [],
   "source": []
  }
 ],
 "metadata": {
  "celltoolbar": "Slideshow",
  "kernelspec": {
   "display_name": "Python 3",
   "language": "python",
   "name": "python3"
  },
  "language_info": {
   "codemirror_mode": {
    "name": "ipython",
    "version": 3
   },
   "file_extension": ".py",
   "mimetype": "text/x-python",
   "name": "python",
   "nbconvert_exporter": "python",
   "pygments_lexer": "ipython3",
   "version": "3.6.1"
  }
 },
 "nbformat": 4,
 "nbformat_minor": 2
}
